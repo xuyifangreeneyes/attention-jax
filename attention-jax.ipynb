{
 "cells": [
  {
   "cell_type": "code",
   "execution_count": 1,
   "metadata": {},
   "outputs": [],
   "source": [
    "import jax.numpy as np\n",
    "import jax.nn as nn\n",
    "from jax import grad, jit, vmap\n",
    "from jax import random"
   ]
  },
  {
   "cell_type": "code",
   "execution_count": 2,
   "metadata": {},
   "outputs": [
    {
     "name": "stderr",
     "output_type": "stream",
     "text": [
      "/Users/xuyifan/miniconda3/envs/py3/lib/python3.7/site-packages/jax/lib/xla_bridge.py:116: UserWarning: No GPU/TPU found, falling back to CPU.\n",
      "  warnings.warn('No GPU/TPU found, falling back to CPU.')\n"
     ]
    }
   ],
   "source": [
    "key = random.PRNGKey(0)"
   ]
  },
  {
   "cell_type": "code",
   "execution_count": 3,
   "metadata": {},
   "outputs": [],
   "source": [
    "xs = random.normal(key, (10, 3), dtype=np.float32)"
   ]
  },
  {
   "cell_type": "code",
   "execution_count": 4,
   "metadata": {},
   "outputs": [
    {
     "data": {
      "text/plain": [
       "DeviceArray([[-0.28371075,  0.9368161 , -1.0050074 ],\n",
       "             [ 1.4165013 ,  1.05433   ,  0.9108126 ],\n",
       "             [-0.42656714,  0.98618793, -0.5575325 ],\n",
       "             [ 0.01532494, -2.0785687 ,  0.554837  ],\n",
       "             [ 0.9142364 ,  0.57445955,  0.72278625],\n",
       "             [ 0.12106168, -0.32373545,  1.6234994 ],\n",
       "             [ 0.24500382, -1.3809782 , -0.6111238 ],\n",
       "             [ 0.14037243,  0.8410042 , -1.094358  ],\n",
       "             [-1.0775021 , -1.1396459 , -0.5933381 ],\n",
       "             [-0.15576522, -0.38321453, -1.1144515 ]], dtype=float32)"
      ]
     },
     "execution_count": 4,
     "metadata": {},
     "output_type": "execute_result"
    }
   ],
   "source": [
    "xs"
   ]
  },
  {
   "cell_type": "code",
   "execution_count": 5,
   "metadata": {},
   "outputs": [],
   "source": [
    "def attention0(qs, ks, vs):\n",
    "    def fn_w(i):\n",
    "        return [x for x in nn.softmax(np.stack([np.dot(qs[i], k) for k in ks]))]\n",
    "    def fn_h(i):\n",
    "        w = fn_w(i)\n",
    "        return np.sum([x * vs[j] for j, x in enumerate(w)], axis=0)\n",
    "    return [fn_h(i) for i in range(len(qs))] "
   ]
  },
  {
   "cell_type": "code",
   "execution_count": 6,
   "metadata": {},
   "outputs": [
    {
     "name": "stdout",
     "output_type": "stream",
     "text": [
      "211 ms ± 1 ms per loop (mean ± std. dev. of 7 runs, 1 loop each)\n"
     ]
    }
   ],
   "source": [
    "%timeit attention0(xs, xs, xs)"
   ]
  },
  {
   "cell_type": "code",
   "execution_count": 7,
   "metadata": {},
   "outputs": [
    {
     "data": {
      "text/plain": [
       "[DeviceArray([-0.11803952,  0.6514982 , -0.7964032 ], dtype=float32),\n",
       " DeviceArray([1.186598  , 0.87185955, 0.8337545 ], dtype=float32),\n",
       " DeviceArray([-0.08570289,  0.65454096, -0.6735319 ], dtype=float32),\n",
       " DeviceArray([-0.01892377, -1.854406  ,  0.39680448], dtype=float32),\n",
       " DeviceArray([0.929942 , 0.6487618, 0.7303074], dtype=float32),\n",
       " DeviceArray([ 0.32398266, -0.35916838,  1.1163737 ], dtype=float32),\n",
       " DeviceArray([-0.08826812, -1.3582238 , -0.1771639 ], dtype=float32),\n",
       " DeviceArray([-0.04798152,  0.6310004 , -0.76828456], dtype=float32),\n",
       " DeviceArray([-0.48142552, -1.1528716 , -0.38736904], dtype=float32),\n",
       " DeviceArray([-0.21049924, -0.36080134, -0.68926257], dtype=float32)]"
      ]
     },
     "execution_count": 7,
     "metadata": {},
     "output_type": "execute_result"
    }
   ],
   "source": [
    "attention0(xs, xs, xs)"
   ]
  },
  {
   "cell_type": "code",
   "execution_count": 8,
   "metadata": {},
   "outputs": [],
   "source": [
    "def attention1(qs, ks, vs):\n",
    "    def fn_w(i):\n",
    "        return nn.softmax(vmap(np.vdot, (0, None), 0)(ks, qs[i]))\n",
    "    def fn_h(i):\n",
    "        w = fn_w(i)\n",
    "        return np.sum([x * vs[j] for j, x in enumerate(w)], axis=0)\n",
    "    return [fn_h(i) for i in range(len(qs))] "
   ]
  },
  {
   "cell_type": "code",
   "execution_count": 9,
   "metadata": {},
   "outputs": [
    {
     "name": "stdout",
     "output_type": "stream",
     "text": [
      "128 ms ± 1.6 ms per loop (mean ± std. dev. of 7 runs, 10 loops each)\n"
     ]
    }
   ],
   "source": [
    "%timeit attention1(xs, xs, xs)"
   ]
  },
  {
   "cell_type": "code",
   "execution_count": 10,
   "metadata": {},
   "outputs": [],
   "source": [
    "def attention2(qs, ks, vs):\n",
    "    def fn_w(i):\n",
    "        return nn.softmax(vmap(np.vdot, (0, None), 0)(ks, qs[i]))\n",
    "    def fn_h(i):\n",
    "        w = fn_w(i)\n",
    "        return np.matmul(w,  vs)\n",
    "    return [fn_h(i) for i in range(len(qs))] "
   ]
  },
  {
   "cell_type": "code",
   "execution_count": 11,
   "metadata": {},
   "outputs": [
    {
     "name": "stdout",
     "output_type": "stream",
     "text": [
      "25.6 ms ± 801 µs per loop (mean ± std. dev. of 7 runs, 10 loops each)\n"
     ]
    }
   ],
   "source": [
    "%timeit attention2(xs, xs, xs)"
   ]
  },
  {
   "cell_type": "code",
   "execution_count": 12,
   "metadata": {},
   "outputs": [],
   "source": [
    "def one_query(q, ks, vs):\n",
    "    w = nn.softmax(vmap(lambda x, y: np.vdot(x, y), (0, None), 0)(ks, q))\n",
    "    return np.matmul(w,  vs)\n",
    "\n",
    "def attention3(qs, ks, vs):\n",
    "    return vmap(one_query, (0, None, None), 0)(qs, ks, vs)"
   ]
  },
  {
   "cell_type": "code",
   "execution_count": 13,
   "metadata": {
    "scrolled": true
   },
   "outputs": [
    {
     "name": "stdout",
     "output_type": "stream",
     "text": [
      "4.38 ms ± 113 µs per loop (mean ± std. dev. of 7 runs, 100 loops each)\n"
     ]
    }
   ],
   "source": [
    "%timeit attention3(xs, xs, xs)"
   ]
  },
  {
   "cell_type": "code",
   "execution_count": 14,
   "metadata": {},
   "outputs": [],
   "source": [
    "@jit\n",
    "def attention3_jit(qs, ks, vs):\n",
    "    return vmap(jit(one_query), (0, None, None), 0)(qs, ks, vs)"
   ]
  },
  {
   "cell_type": "code",
   "execution_count": 15,
   "metadata": {},
   "outputs": [
    {
     "name": "stdout",
     "output_type": "stream",
     "text": [
      "117 µs ± 1.24 µs per loop (mean ± std. dev. of 7 runs, 10000 loops each)\n"
     ]
    }
   ],
   "source": [
    "%timeit attention3_jit(xs, xs, xs)"
   ]
  },
  {
   "cell_type": "code",
   "execution_count": 16,
   "metadata": {},
   "outputs": [],
   "source": [
    "def attention4(qs, ks, vs):\n",
    "    return np.matmul(nn.softmax(np.matmul(qs, ks.T)), vs)"
   ]
  },
  {
   "cell_type": "code",
   "execution_count": 17,
   "metadata": {},
   "outputs": [
    {
     "name": "stdout",
     "output_type": "stream",
     "text": [
      "971 µs ± 8.74 µs per loop (mean ± std. dev. of 7 runs, 1000 loops each)\n"
     ]
    }
   ],
   "source": [
    "%timeit attention4(xs, xs, xs)"
   ]
  },
  {
   "cell_type": "code",
   "execution_count": 18,
   "metadata": {},
   "outputs": [
    {
     "name": "stdout",
     "output_type": "stream",
     "text": [
      "124 µs ± 1.54 µs per loop (mean ± std. dev. of 7 runs, 10000 loops each)\n"
     ]
    }
   ],
   "source": [
    "attention4_jit = jit(attention4)\n",
    "%timeit attention4_jit(xs, xs, xs)"
   ]
  },
  {
   "cell_type": "code",
   "execution_count": null,
   "metadata": {},
   "outputs": [],
   "source": []
  }
 ],
 "metadata": {
  "kernelspec": {
   "display_name": "Python 3",
   "language": "python",
   "name": "python3"
  },
  "language_info": {
   "codemirror_mode": {
    "name": "ipython",
    "version": 3
   },
   "file_extension": ".py",
   "mimetype": "text/x-python",
   "name": "python",
   "nbconvert_exporter": "python",
   "pygments_lexer": "ipython3",
   "version": "3.7.4"
  }
 },
 "nbformat": 4,
 "nbformat_minor": 4
}
